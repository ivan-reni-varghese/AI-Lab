{
  "nbformat": 4,
  "nbformat_minor": 0,
  "metadata": {
    "colab": {
      "provenance": [],
      "authorship_tag": "ABX9TyO9sKknKJVADHqD2P8fkRaB"
    },
    "kernelspec": {
      "name": "python3",
      "display_name": "Python 3"
    },
    "language_info": {
      "name": "python"
    }
  },
  "cells": [
    {
      "cell_type": "code",
      "execution_count": 1,
      "metadata": {
        "id": "wn5a41-auGaD"
      },
      "outputs": [],
      "source": [
        "import numpy as np\n",
        "import pandas as pd\n",
        "from matplotlib import pyplot as plt"
      ]
    },
    {
      "cell_type": "code",
      "source": [
        "dat = pd.read_csv(\"CEDS12.csv\",header=0)"
      ],
      "metadata": {
        "id": "ICvRnub4uKbn"
      },
      "execution_count": 2,
      "outputs": []
    },
    {
      "cell_type": "code",
      "source": [
        "data = dat.values.tolist()\n",
        "data\n",
        "S = data[0][0:-1]\n",
        "S\n",
        "G = [['?' for i in range(len(S))] for j in range(len(S))]\n",
        "G\n",
        "for row in data:\n",
        "    if row[-1] == \"Yes\":\n",
        "        for j in range(len(S)):\n",
        "            if row[j]!= S[j]:\n",
        "                S[j]='?'\n",
        "                G[j][j]='?'\n",
        "    elif row[-1] == \"No\":\n",
        "        for j in range(len(S)):\n",
        "            if row[j]!=S[j]:\n",
        "                G[j][j]=S[j]\n",
        "            else:\n",
        "                G[j][j]=\"?\"\n",
        "    print(\"\\nAfter insatnce\",data.index(row)+1)\n",
        "    print(\"Specific boundary is :\",S)\n",
        "    print(\"General boundary is :\",G)\n",
        "\n",
        "print(\"\\nFinal specific hypothesis:\\n\",S)\n",
        "print(\"\\nFinal general hypothesis:\\n\",G)"
      ],
      "metadata": {
        "colab": {
          "base_uri": "https://localhost:8080/"
        },
        "id": "8JkAilNmuL85",
        "outputId": "9e9512bc-f36f-4248-801c-7a55ebecdc8b"
      },
      "execution_count": 3,
      "outputs": [
        {
          "output_type": "stream",
          "name": "stdout",
          "text": [
            "\n",
            "After insatnce 1\n",
            "Specific boundary is : [1, 'Sunny', 'Warm', 'Normal', 'Strong', 'Warm', 'Same']\n",
            "General boundary is : [['?', '?', '?', '?', '?', '?', '?'], ['?', '?', '?', '?', '?', '?', '?'], ['?', '?', '?', '?', '?', '?', '?'], ['?', '?', '?', '?', '?', '?', '?'], ['?', '?', '?', '?', '?', '?', '?'], ['?', '?', '?', '?', '?', '?', '?'], ['?', '?', '?', '?', '?', '?', '?']]\n",
            "\n",
            "After insatnce 2\n",
            "Specific boundary is : ['?', 'Sunny', 'Warm', '?', 'Strong', 'Warm', 'Same']\n",
            "General boundary is : [['?', '?', '?', '?', '?', '?', '?'], ['?', '?', '?', '?', '?', '?', '?'], ['?', '?', '?', '?', '?', '?', '?'], ['?', '?', '?', '?', '?', '?', '?'], ['?', '?', '?', '?', '?', '?', '?'], ['?', '?', '?', '?', '?', '?', '?'], ['?', '?', '?', '?', '?', '?', '?']]\n",
            "\n",
            "After insatnce 3\n",
            "Specific boundary is : ['?', 'Sunny', 'Warm', '?', 'Strong', 'Warm', 'Same']\n",
            "General boundary is : [['?', '?', '?', '?', '?', '?', '?'], ['?', 'Sunny', '?', '?', '?', '?', '?'], ['?', '?', 'Warm', '?', '?', '?', '?'], ['?', '?', '?', '?', '?', '?', '?'], ['?', '?', '?', '?', '?', '?', '?'], ['?', '?', '?', '?', '?', '?', '?'], ['?', '?', '?', '?', '?', '?', 'Same']]\n",
            "\n",
            "After insatnce 4\n",
            "Specific boundary is : ['?', 'Sunny', 'Warm', '?', 'Strong', '?', '?']\n",
            "General boundary is : [['?', '?', '?', '?', '?', '?', '?'], ['?', 'Sunny', '?', '?', '?', '?', '?'], ['?', '?', 'Warm', '?', '?', '?', '?'], ['?', '?', '?', '?', '?', '?', '?'], ['?', '?', '?', '?', '?', '?', '?'], ['?', '?', '?', '?', '?', '?', '?'], ['?', '?', '?', '?', '?', '?', '?']]\n",
            "\n",
            "Final specific hypothesis:\n",
            " ['?', 'Sunny', 'Warm', '?', 'Strong', '?', '?']\n",
            "\n",
            "Final general hypothesis:\n",
            " [['?', '?', '?', '?', '?', '?', '?'], ['?', 'Sunny', '?', '?', '?', '?', '?'], ['?', '?', 'Warm', '?', '?', '?', '?'], ['?', '?', '?', '?', '?', '?', '?'], ['?', '?', '?', '?', '?', '?', '?'], ['?', '?', '?', '?', '?', '?', '?'], ['?', '?', '?', '?', '?', '?', '?']]\n"
          ]
        }
      ]
    }
  ]
}
