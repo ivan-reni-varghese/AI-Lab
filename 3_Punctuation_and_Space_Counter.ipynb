{
  "nbformat": 4,
  "nbformat_minor": 0,
  "metadata": {
    "colab": {
      "provenance": [],
      "authorship_tag": "ABX9TyNPwGTQxbLon/RhoJSvp56y"
    },
    "kernelspec": {
      "name": "python3",
      "display_name": "Python 3"
    },
    "language_info": {
      "name": "python"
    }
  },
  "cells": [
    {
      "cell_type": "code",
      "execution_count": 1,
      "metadata": {
        "colab": {
          "base_uri": "https://localhost:8080/"
        },
        "id": "C-IoDEZgvNtY",
        "outputId": "f5af6c26-e271-43a6-e356-8af736f6cf1a"
      },
      "outputs": [
        {
          "name": "stdout",
          "output_type": "stream",
          "text": [
            "Enter a string: hii\n",
            "Punctuation Free String:  hii\n",
            "Total number of spaces: 0\n",
            "Total number of punctuations: 0\n",
            "Do you want to replace any characters in your sentence ?no\n"
          ]
        }
      ],
      "source": [
        "punctuations = '''!()-[]{};:'\"\\,<>./?@#$%^&*_~'''\n",
        "\n",
        "inp_str = input(\"Enter a string: \")\n",
        "\n",
        "spaces = \" \"\n",
        "count = 0\n",
        "no_punc = \"\"\n",
        "cp = 0\n",
        "for char in inp_str:\n",
        "  if char == spaces:\n",
        "    count = count + 1\n",
        "  if char not in punctuations:\n",
        "       no_punc = no_punc + char\n",
        "  if char in punctuations:\n",
        "      cp = cp+1;\n",
        "\n",
        "print(\"Punctuation Free String: \",no_punc)\n",
        "print(\"Total number of spaces:\", count)\n",
        "print(\"Total number of punctuations:\",cp)\n",
        "\n",
        "question = input(\"Do you want to replace any characters in your sentence ?\")\n",
        "if question == \"yes\":\n",
        "  remove_char = input(\"character you want to remove:\")\n",
        "  add_char = input(\"Character you want to add:\")\n",
        "  print(inp_str.replace(remove_char, add_char))"
      ]
    }
  ]
}