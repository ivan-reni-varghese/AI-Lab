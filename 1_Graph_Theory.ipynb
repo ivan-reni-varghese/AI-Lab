{
  "nbformat": 4,
  "nbformat_minor": 0,
  "metadata": {
    "colab": {
      "provenance": [],
      "authorship_tag": "ABX9TyNCRLwfMN+E+5kFZgyfxifd"
    },
    "kernelspec": {
      "name": "python3",
      "display_name": "Python 3"
    },
    "language_info": {
      "name": "python"
    }
  },
  "cells": [
    {
      "cell_type": "code",
      "execution_count": 1,
      "metadata": {
        "id": "3qD1aPxLsf1F"
      },
      "outputs": [],
      "source": [
        "class City:\n",
        "    def __init__(self, name):\n",
        "        self.name = name\n",
        "        self.connections = {}  # to store neighboring cities and distances\n",
        "\n",
        "    def add_connection(self, city, distance):\n",
        "        self.connections[city] = distance"
      ]
    },
    {
      "cell_type": "code",
      "source": [
        "class StateSpaceGraph:\n",
        "    def __init__(self):\n",
        "        self.cities = {}\n",
        "\n",
        "    def add_city(self, city_name):\n",
        "        city = City(city_name)\n",
        "        self.cities[city_name] = city\n",
        "\n",
        "    def add_connection(self, city1, city2, distance):\n",
        "        self.cities[city1].add_connection(self.cities[city2], distance)\n",
        "        self.cities[city2].add_connection(self.cities[city1], distance)\n",
        "\n",
        "    def shortest_path(self, start_city, end_city):\n",
        "        distances = {city: float('inf') for city in self.cities}\n",
        "        distances[start_city] = 0\n",
        "        visited_cities = set()\n",
        "        unvisited_cities = set(self.cities.values())\n",
        "\n",
        "        while unvisited_cities:\n",
        "            current_city = min(unvisited_cities, key=lambda city: distances[city.name])\n",
        "            unvisited_cities.remove(current_city)\n",
        "            visited_cities.add(current_city)\n",
        "\n",
        "            for neighbor, distance in current_city.connections.items():\n",
        "                if neighbor in visited_cities:\n",
        "                    continue\n",
        "                new_distance = distances[current_city.name] + distance\n",
        "                if new_distance < distances[neighbor.name]:\n",
        "                    distances[neighbor.name] = new_distance\n",
        "\n",
        "        return distances[end_city]"
      ],
      "metadata": {
        "id": "lI63s1n6shkv"
      },
      "execution_count": 2,
      "outputs": []
    },
    {
      "cell_type": "code",
      "source": [
        "graph = StateSpaceGraph()\n",
        "graph.add_city('A')\n",
        "graph.add_city('B')\n",
        "graph.add_city('C')\n",
        "graph.add_city('D')\n",
        "graph.add_connection('A', 'B', 2)\n",
        "graph.add_connection('B', 'C', 3)\n",
        "graph.add_connection('C', 'D', 1)\n",
        "graph.add_connection('A', 'D', 5)\n",
        "print(graph.shortest_path('A', 'C'))\n",
        "print(graph.shortest_path('D', 'C'))\n",
        "print(graph.shortest_path('B', 'C'))\n",
        "print(graph.shortest_path('B', 'D'))"
      ],
      "metadata": {
        "colab": {
          "base_uri": "https://localhost:8080/"
        },
        "id": "LzMY63HJsjjv",
        "outputId": "9180af73-5491-417b-d810-b0680db32937"
      },
      "execution_count": 3,
      "outputs": [
        {
          "output_type": "stream",
          "name": "stdout",
          "text": [
            "5\n",
            "1\n",
            "3\n",
            "4\n"
          ]
        }
      ]
    }
  ]
}
