{
  "nbformat": 4,
  "nbformat_minor": 0,
  "metadata": {
    "colab": {
      "provenance": [],
      "authorship_tag": "ABX9TyPGKMVJmclxOgv7v86hXNDR"
    },
    "kernelspec": {
      "name": "python3",
      "display_name": "Python 3"
    },
    "language_info": {
      "name": "python"
    }
  },
  "cells": [
    {
      "cell_type": "code",
      "execution_count": null,
      "metadata": {
        "colab": {
          "base_uri": "https://localhost:8080/"
        },
        "id": "JLZwknvU3hK8",
        "outputId": "544d11dd-bcd1-457b-c24b-59dc5846e651"
      },
      "outputs": [
        {
          "output_type": "stream",
          "name": "stderr",
          "text": [
            "[nltk_data] Downloading package punkt to /root/nltk_data...\n",
            "[nltk_data]   Unzipping tokenizers/punkt.zip.\n",
            "[nltk_data] Downloading package averaged_perceptron_tagger to\n",
            "[nltk_data]     /root/nltk_data...\n",
            "[nltk_data]   Unzipping taggers/averaged_perceptron_tagger.zip.\n",
            "[nltk_data] Downloading package maxent_ne_chunker to\n",
            "[nltk_data]     /root/nltk_data...\n",
            "[nltk_data]   Unzipping chunkers/maxent_ne_chunker.zip.\n",
            "[nltk_data] Downloading package words to /root/nltk_data...\n",
            "[nltk_data]   Unzipping corpora/words.zip.\n"
          ]
        },
        {
          "output_type": "execute_result",
          "data": {
            "text/plain": [
              "True"
            ]
          },
          "metadata": {},
          "execution_count": 1
        }
      ],
      "source": [
        "import nltk\n",
        "nltk.download('punkt')\n",
        "nltk.download('averaged_perceptron_tagger')\n",
        "nltk.download('maxent_ne_chunker')\n",
        "nltk.download('words') # Uncomment these lines if the specified files aren't downloaded"
      ]
    },
    {
      "cell_type": "code",
      "source": [
        "paragraph = \"\"\"The Imperial Forces -- under orders from cruel Darth Vader hold the lady Leia Organa hostage,\n",
        "in their efforts to quell the rebellion against the Galactic Empire.\n",
        "Luke Skywalker and Han Solo , captain of the Millennium Falcon, work together with the\n",
        "companionable droid duo R2-D2 and C-3PO to rescue the beautiful princess,\n",
        "help the Rebel Alliance, and restore freedom and justice to the Galaxy.\"\"\""
      ],
      "metadata": {
        "id": "J4pTvE-F36b4"
      },
      "execution_count": null,
      "outputs": []
    },
    {
      "cell_type": "code",
      "source": [
        "for sentence in nltk.sent_tokenize(paragraph):\n",
        "    for chunk in nltk.ne_chunk(nltk.pos_tag(nltk.word_tokenize(sentence))):\n",
        "        if hasattr(chunk, 'label'):\n",
        "            print(f\"{' '.join(c[0] for c in chunk):<35} {chunk.label()}\")"
      ],
      "metadata": {
        "colab": {
          "base_uri": "https://localhost:8080/"
        },
        "id": "lVZMLD1Z38Oy",
        "outputId": "20e0ceb2-a23d-4af6-9dec-99b50b3f4c8f"
      },
      "execution_count": null,
      "outputs": [
        {
          "output_type": "stream",
          "name": "stdout",
          "text": [
            "Imperial                            ORGANIZATION\n",
            "Darth Vader                         PERSON\n",
            "Leia Organa                         PERSON\n",
            "Galactic Empire                     ORGANIZATION\n",
            "Luke                                PERSON\n",
            "Skywalker                           ORGANIZATION\n",
            "Han Solo                            PERSON\n",
            "Millennium Falcon                   FACILITY\n",
            "Rebel Alliance                      ORGANIZATION\n",
            "Galaxy                              GPE\n"
          ]
        }
      ]
    }
  ]
}