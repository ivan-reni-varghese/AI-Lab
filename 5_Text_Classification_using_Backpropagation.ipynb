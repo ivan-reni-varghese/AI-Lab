{
  "nbformat": 4,
  "nbformat_minor": 0,
  "metadata": {
    "colab": {
      "provenance": [],
      "authorship_tag": "ABX9TyPaoNWmCY/PAB8RmUkrs7ZD"
    },
    "kernelspec": {
      "name": "python3",
      "display_name": "Python 3"
    },
    "language_info": {
      "name": "python"
    }
  },
  "cells": [
    {
      "cell_type": "code",
      "execution_count": null,
      "metadata": {
        "id": "vsL6TxiJjYmA"
      },
      "outputs": [],
      "source": [
        "import numpy as np\n",
        "import pandas as pd\n",
        "from sklearn.model_selection import train_test_split\n",
        "from sklearn.feature_extraction.text import CountVectorizer\n",
        "from sklearn.neural_network import MLPClassifier\n",
        "from sklearn.metrics import accuracy_score, confusion_matrix, precision_score, recall_score\n"
      ]
    },
    {
      "cell_type": "code",
      "source": [
        "msglbl_data = pd.read_csv('bp.csv', names=['Message', 'Label'])\n",
        "print(\"The Total instances in the Dataset: \", msglbl_data.shape[0])\n",
        "print(msglbl_data)\n",
        "msglbl_data['labelnum'] = msglbl_data.Label.map({'pos': 1, 'neg': 0})\n",
        "print(msglbl_data)\n",
        "X = msglbl_data[\"Message\"]\n",
        "Y = msglbl_data.labelnum\n",
        "Xtrain, Xtest, Ytrain, Ytest = train_test_split(X, Y)"
      ],
      "metadata": {
        "colab": {
          "base_uri": "https://localhost:8080/"
        },
        "id": "2ch5TcVjj4Nc",
        "outputId": "bb73b388-5eef-4d6f-d36c-7442f8478819"
      },
      "execution_count": null,
      "outputs": [
        {
          "output_type": "stream",
          "name": "stdout",
          "text": [
            "The Total instances in the Dataset:  30\n",
            "                                  Message Label\n",
            "0                 This is very good place   pos\n",
            "1                     I like this biryani   pos\n",
            "2                       I feel very happy   pos\n",
            "3                    This is my best work   pos\n",
            "4           I do not like this restaurant   neg\n",
            "5                I am tired of this stuff   neg\n",
            "6                  I can't deal with this   neg\n",
            "7                      What an idea it is   pos\n",
            "8                    My place is horrible   neg\n",
            "9                This is an awesome place   pos\n",
            "10  I do not like the taste of this juice   neg\n",
            "11                         I love to sing   pos\n",
            "12                    I am sick and tired   neg\n",
            "13                        I love to dance   pos\n",
            "14                   What a great holiday   pos\n",
            "15         That is a bad locality to stay   neg\n",
            "16         We will have good fun tomorrow   pos\n",
            "17                       I hate this food   neg\n",
            "18                          Harsha is gay   pos\n",
            "19                             I like her   pos\n",
            "20                             I am happy   pos\n",
            "21                    She doesn't like me   neg\n",
            "22                              I had fun   pos\n",
            "23                                I cried   neg\n",
            "24                       She is beautiful   pos\n",
            "25                             We partied   pos\n",
            "26                      I like chocolates   pos\n",
            "27                           I hate frogs   neg\n",
            "28                               I am sad   neg\n",
            "29                   I dislike spicy food   neg\n",
            "                                  Message Label  labelnum\n",
            "0                 This is very good place   pos         1\n",
            "1                     I like this biryani   pos         1\n",
            "2                       I feel very happy   pos         1\n",
            "3                    This is my best work   pos         1\n",
            "4           I do not like this restaurant   neg         0\n",
            "5                I am tired of this stuff   neg         0\n",
            "6                  I can't deal with this   neg         0\n",
            "7                      What an idea it is   pos         1\n",
            "8                    My place is horrible   neg         0\n",
            "9                This is an awesome place   pos         1\n",
            "10  I do not like the taste of this juice   neg         0\n",
            "11                         I love to sing   pos         1\n",
            "12                    I am sick and tired   neg         0\n",
            "13                        I love to dance   pos         1\n",
            "14                   What a great holiday   pos         1\n",
            "15         That is a bad locality to stay   neg         0\n",
            "16         We will have good fun tomorrow   pos         1\n",
            "17                       I hate this food   neg         0\n",
            "18                          Harsha is gay   pos         1\n",
            "19                             I like her   pos         1\n",
            "20                             I am happy   pos         1\n",
            "21                    She doesn't like me   neg         0\n",
            "22                              I had fun   pos         1\n",
            "23                                I cried   neg         0\n",
            "24                       She is beautiful   pos         1\n",
            "25                             We partied   pos         1\n",
            "26                      I like chocolates   pos         1\n",
            "27                           I hate frogs   neg         0\n",
            "28                               I am sad   neg         0\n",
            "29                   I dislike spicy food   neg         0\n"
          ]
        }
      ]
    },
    {
      "cell_type": "code",
      "source": [
        "# Convert the text data into a sparse matrix of token counts\n",
        "count_vect = CountVectorizer()\n",
        "Xtrain_dims = count_vect.fit_transform(Xtrain)\n",
        "Xtest_dims = count_vect.transform(Xtest)\n",
        "# Create a Multi-Layer Perceptron (MLP) classifier\n",
        "clf = MLPClassifier(solver='lbfgs', alpha=1e-5, hidden_layer_sizes=(5, 2), random_state=1)\n",
        "# Train the classifier on the training data\n",
        "clf.fit(Xtrain_dims, Ytrain)"
      ],
      "metadata": {
        "colab": {
          "base_uri": "https://localhost:8080/",
          "height": 92
        },
        "id": "xXWyLAp8kB7n",
        "outputId": "c323d877-16d6-44a1-889e-3b85f801e8ab"
      },
      "execution_count": null,
      "outputs": [
        {
          "output_type": "execute_result",
          "data": {
            "text/plain": [
              "MLPClassifier(alpha=1e-05, hidden_layer_sizes=(5, 2), random_state=1,\n",
              "              solver='lbfgs')"
            ],
            "text/html": [
              "<style>#sk-container-id-3 {color: black;background-color: white;}#sk-container-id-3 pre{padding: 0;}#sk-container-id-3 div.sk-toggleable {background-color: white;}#sk-container-id-3 label.sk-toggleable__label {cursor: pointer;display: block;width: 100%;margin-bottom: 0;padding: 0.3em;box-sizing: border-box;text-align: center;}#sk-container-id-3 label.sk-toggleable__label-arrow:before {content: \"▸\";float: left;margin-right: 0.25em;color: #696969;}#sk-container-id-3 label.sk-toggleable__label-arrow:hover:before {color: black;}#sk-container-id-3 div.sk-estimator:hover label.sk-toggleable__label-arrow:before {color: black;}#sk-container-id-3 div.sk-toggleable__content {max-height: 0;max-width: 0;overflow: hidden;text-align: left;background-color: #f0f8ff;}#sk-container-id-3 div.sk-toggleable__content pre {margin: 0.2em;color: black;border-radius: 0.25em;background-color: #f0f8ff;}#sk-container-id-3 input.sk-toggleable__control:checked~div.sk-toggleable__content {max-height: 200px;max-width: 100%;overflow: auto;}#sk-container-id-3 input.sk-toggleable__control:checked~label.sk-toggleable__label-arrow:before {content: \"▾\";}#sk-container-id-3 div.sk-estimator input.sk-toggleable__control:checked~label.sk-toggleable__label {background-color: #d4ebff;}#sk-container-id-3 div.sk-label input.sk-toggleable__control:checked~label.sk-toggleable__label {background-color: #d4ebff;}#sk-container-id-3 input.sk-hidden--visually {border: 0;clip: rect(1px 1px 1px 1px);clip: rect(1px, 1px, 1px, 1px);height: 1px;margin: -1px;overflow: hidden;padding: 0;position: absolute;width: 1px;}#sk-container-id-3 div.sk-estimator {font-family: monospace;background-color: #f0f8ff;border: 1px dotted black;border-radius: 0.25em;box-sizing: border-box;margin-bottom: 0.5em;}#sk-container-id-3 div.sk-estimator:hover {background-color: #d4ebff;}#sk-container-id-3 div.sk-parallel-item::after {content: \"\";width: 100%;border-bottom: 1px solid gray;flex-grow: 1;}#sk-container-id-3 div.sk-label:hover label.sk-toggleable__label {background-color: #d4ebff;}#sk-container-id-3 div.sk-serial::before {content: \"\";position: absolute;border-left: 1px solid gray;box-sizing: border-box;top: 0;bottom: 0;left: 50%;z-index: 0;}#sk-container-id-3 div.sk-serial {display: flex;flex-direction: column;align-items: center;background-color: white;padding-right: 0.2em;padding-left: 0.2em;position: relative;}#sk-container-id-3 div.sk-item {position: relative;z-index: 1;}#sk-container-id-3 div.sk-parallel {display: flex;align-items: stretch;justify-content: center;background-color: white;position: relative;}#sk-container-id-3 div.sk-item::before, #sk-container-id-3 div.sk-parallel-item::before {content: \"\";position: absolute;border-left: 1px solid gray;box-sizing: border-box;top: 0;bottom: 0;left: 50%;z-index: -1;}#sk-container-id-3 div.sk-parallel-item {display: flex;flex-direction: column;z-index: 1;position: relative;background-color: white;}#sk-container-id-3 div.sk-parallel-item:first-child::after {align-self: flex-end;width: 50%;}#sk-container-id-3 div.sk-parallel-item:last-child::after {align-self: flex-start;width: 50%;}#sk-container-id-3 div.sk-parallel-item:only-child::after {width: 0;}#sk-container-id-3 div.sk-dashed-wrapped {border: 1px dashed gray;margin: 0 0.4em 0.5em 0.4em;box-sizing: border-box;padding-bottom: 0.4em;background-color: white;}#sk-container-id-3 div.sk-label label {font-family: monospace;font-weight: bold;display: inline-block;line-height: 1.2em;}#sk-container-id-3 div.sk-label-container {text-align: center;}#sk-container-id-3 div.sk-container {/* jupyter's `normalize.less` sets `[hidden] { display: none; }` but bootstrap.min.css set `[hidden] { display: none !important; }` so we also need the `!important` here to be able to override the default hidden behavior on the sphinx rendered scikit-learn.org. See: https://github.com/scikit-learn/scikit-learn/issues/21755 */display: inline-block !important;position: relative;}#sk-container-id-3 div.sk-text-repr-fallback {display: none;}</style><div id=\"sk-container-id-3\" class=\"sk-top-container\"><div class=\"sk-text-repr-fallback\"><pre>MLPClassifier(alpha=1e-05, hidden_layer_sizes=(5, 2), random_state=1,\n",
              "              solver=&#x27;lbfgs&#x27;)</pre><b>In a Jupyter environment, please rerun this cell to show the HTML representation or trust the notebook. <br />On GitHub, the HTML representation is unable to render, please try loading this page with nbviewer.org.</b></div><div class=\"sk-container\" hidden><div class=\"sk-item\"><div class=\"sk-estimator sk-toggleable\"><input class=\"sk-toggleable__control sk-hidden--visually\" id=\"sk-estimator-id-3\" type=\"checkbox\" checked><label for=\"sk-estimator-id-3\" class=\"sk-toggleable__label sk-toggleable__label-arrow\">MLPClassifier</label><div class=\"sk-toggleable__content\"><pre>MLPClassifier(alpha=1e-05, hidden_layer_sizes=(5, 2), random_state=1,\n",
              "              solver=&#x27;lbfgs&#x27;)</pre></div></div></div></div></div>"
            ]
          },
          "metadata": {},
          "execution_count": 25
        }
      ]
    },
    {
      "cell_type": "code",
      "source": [
        "# Predict the labels for the testing data\n",
        "prediction = clf.predict(Xtest_dims)\n",
        "# Print the accuracy, recall, precision, and confusion matrix of the classifier\n",
        "print('********Accuracy Metrics *********')\n",
        "print('Accuracy: ', accuracy_score(Ytest, prediction))\n",
        "print('Recall: ', recall_score(Ytest, prediction))\n",
        "print('Precision: ',precision_score(Ytest, prediction))\n",
        "print('Confusion Matrix : \\n', confusion_matrix(Ytest, prediction))\n",
        "print(10*\"-\")"
      ],
      "metadata": {
        "colab": {
          "base_uri": "https://localhost:8080/"
        },
        "id": "hS_UxObrkE4L",
        "outputId": "c092d269-bae2-4794-bf41-5f9d376c454c"
      },
      "execution_count": null,
      "outputs": [
        {
          "output_type": "stream",
          "name": "stdout",
          "text": [
            "********Accuracy Metrics *********\n",
            "Accuracy:  0.875\n",
            "Recall:  0.8333333333333334\n",
            "Precision:  1.0\n",
            "Confusion Matrix : \n",
            " [[2 0]\n",
            " [1 5]]\n",
            "----------\n"
          ]
        }
      ]
    },
    {
      "cell_type": "code",
      "source": [
        "# Prompt the user to enter a statement to predict its label\n",
        "test_stmt = [input(\"Enter any statement to predict: \")]\n",
        "test_dims = count_vect.transform(test_stmt)\n",
        "pred = clf.predict(test_dims)\n",
        "# Print the predicted label of the statement\n",
        "for stmt,lbl in zip(test_stmt,pred):\n",
        "    if lbl == 1:\n",
        "        print(\"Statement is Positive\")\n",
        "    else:\n",
        "        print(\"Statement is Negative\")"
      ],
      "metadata": {
        "colab": {
          "base_uri": "https://localhost:8080/"
        },
        "id": "g0zbEFxQkHv_",
        "outputId": "0a18b808-b991-431f-dcd4-ecad9d0d0ac5"
      },
      "execution_count": null,
      "outputs": [
        {
          "output_type": "stream",
          "name": "stdout",
          "text": [
            "Enter any statement to predict: i had fun\n",
            "Statement is Positive\n"
          ]
        }
      ]
    }
  ]
}
